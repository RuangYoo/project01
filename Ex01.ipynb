{
  "nbformat": 4,
  "nbformat_minor": 0,
  "metadata": {
    "colab": {
      "provenance": [],
      "authorship_tag": "ABX9TyMiUVqUmQSRA0XE3KwIbuOC",
      "include_colab_link": true
    },
    "kernelspec": {
      "name": "python3",
      "display_name": "Python 3"
    },
    "language_info": {
      "name": "python"
    }
  },
  "cells": [
    {
      "cell_type": "markdown",
      "metadata": {
        "id": "view-in-github",
        "colab_type": "text"
      },
      "source": [
        "<a href=\"https://colab.research.google.com/github/RuangYoo/project01/blob/main/Ex01.ipynb\" target=\"_parent\"><img src=\"https://colab.research.google.com/assets/colab-badge.svg\" alt=\"Open In Colab\"/></a>"
      ]
    },
    {
      "cell_type": "code",
      "execution_count": 2,
      "metadata": {
        "id": "7rL2NjUCTZjI"
      },
      "outputs": [],
      "source": [
        "#อบรม python 27 พ.ย. 67\n",
        "#644245024 อรรถพล เรืองอยู่ หมู่เรียนที่ 64/37"
      ]
    },
    {
      "cell_type": "code",
      "source": [
        "name = input(\"กรุนากรอกชื่อ : \")\n",
        "print(\"ยินดีต้อนรับ \" + name)"
      ],
      "metadata": {
        "colab": {
          "base_uri": "https://localhost:8080/"
        },
        "id": "sm5ssNklTzOf",
        "outputId": "cfe06de6-7e4f-4a82-e8da-52a8764bfc45"
      },
      "execution_count": 4,
      "outputs": [
        {
          "output_type": "stream",
          "name": "stdout",
          "text": [
            "กรุนากรอกชื่อ : เจมส์\n",
            "ยินดีต้อนรับ เจมส์\n"
          ]
        }
      ]
    },
    {
      "cell_type": "code",
      "source": [
        "num1=int(input(\"number1 = \"))\n",
        "num2=int(input(\"number2 = \"))\n",
        "total=num1/num2\n",
        "print(str(num1)+\"/\"+str(num2)+\"=\"+str(total))"
      ],
      "metadata": {
        "colab": {
          "base_uri": "https://localhost:8080/"
        },
        "id": "UBxfcva1VIdf",
        "outputId": "c7c71af7-ca45-4ec6-f498-2a9f0c69af98"
      },
      "execution_count": 12,
      "outputs": [
        {
          "output_type": "stream",
          "name": "stdout",
          "text": [
            "number1 = 0\n",
            "number2 = 10\n",
            "0/10=0.0\n"
          ]
        }
      ]
    },
    {
      "cell_type": "code",
      "source": [
        "w = float(input(\"ค่าน้ำหนัก(กก.)\"))\n",
        "h = float(input(\"ส่วนสูง(ซม.)\"))\n",
        "bmi = w/((h/100)**2)\n",
        "print(\"BMI = \"+str(bmi))"
      ],
      "metadata": {
        "colab": {
          "base_uri": "https://localhost:8080/"
        },
        "id": "xvCscT0lbG9u",
        "outputId": "c6e90a5c-5402-4ced-a4f3-6e539a458090"
      },
      "execution_count": 14,
      "outputs": [
        {
          "output_type": "stream",
          "name": "stdout",
          "text": [
            "ค่าน้ำหนัก(กก.)50\n",
            "ส่วนสูง(ซม.)170\n",
            "BMI = 17.301038062283737\n"
          ]
        }
      ]
    },
    {
      "cell_type": "code",
      "source": [
        "w = float(input(\"กว้าง(เมตร)\"))\n",
        "l = float(input(\"ยาว(เมตร)\"))\n",
        "h = float(input(\"สูงเซยติเมตร\"))\n",
        "\n",
        "\n",
        "print(\"ปริมาณที่ต้องใช้+เพื่ออีก 10%(คิว)\")"
      ],
      "metadata": {
        "id": "s5in8koNebG2"
      },
      "execution_count": null,
      "outputs": []
    },
    {
      "source": [
        "w = float(input(\"กว้าง(เมตร)\"))\n",
        "l = float(input(\"ยาว(เมตร)\"))\n",
        "h = float(input(\"สูง(เซนติเมตร)\"))  # Corrected the prompt\n",
        "\n",
        "# Calculate the volume in cubic meters\n",
        "volume = (w * l * (h * 0.01))  # Height is converted to meters\n",
        "\n",
        "# Add 10% to the volume\n",
        "extra_volume = volume * 0.10\n",
        "total_volume = volume + extra_volume\n",
        "\n",
        "print(\"ปริมาณที่ต้องใช้ (คิว):\", volume)\n",
        "print(\"ปริมาณที่ต้องใช้ + เพื่ออีก 10% (คิว):\", total_volume)"
      ],
      "cell_type": "code",
      "metadata": {
        "colab": {
          "base_uri": "https://localhost:8080/"
        },
        "id": "m0Yb7C7gga4d",
        "outputId": "2b9ca3a3-5d6b-4b90-98b9-6975a71f8a38"
      },
      "execution_count": 22,
      "outputs": [
        {
          "output_type": "stream",
          "name": "stdout",
          "text": [
            "กว้าง(เมตร)5\n",
            "ยาว(เมตร)7\n",
            "สูง(เซนติเมตร)15\n",
            "ปริมาณที่ต้องใช้ (คิว): 5.25\n",
            "ปริมาณที่ต้องใช้ + เพื่ออีก 10% (คิว): 5.775\n"
          ]
        }
      ]
    },
    {
      "cell_type": "code",
      "source": [
        "a=50\n",
        "b=70\n",
        "if a>b:\n",
        "    print(\"a มากกว่า b\")\n",
        "else:\n",
        "    print(\"a น้อยกว่า b\")"
      ],
      "metadata": {
        "id": "xfIYU1H7j8yO"
      },
      "execution_count": null,
      "outputs": []
    },
    {
      "source": [
        "w = float(input(\"ค่าน้ำหนัก(กก.)\"))\n",
        "h = float(input(\"ส่วนสูง(ซม.)\"))\n",
        "bmi = w / ((h / 100) ** 2)\n",
        "print(\"BMI =\", bmi)\n",
        "\n",
        "if bmi >= 30.0:\n",
        "    print(\"อ้วนมาก\")  # Obese\n",
        "elif bmi >= 25.0:\n",
        "    print(\"อ้วน\")  # Overweight\n",
        "elif bmi < 18.5:\n",
        "    print(\"ผอมเกินไป\")  # Underweight\n",
        "else:\n",
        "    print(\"น้ำหนักปกติ\")  # Normal weight"
      ],
      "cell_type": "code",
      "metadata": {
        "colab": {
          "base_uri": "https://localhost:8080/"
        },
        "id": "fVFr49XklS21",
        "outputId": "13de1482-82c7-491b-c338-c1ac507893ce"
      },
      "execution_count": 23,
      "outputs": [
        {
          "output_type": "stream",
          "name": "stdout",
          "text": [
            "ค่าน้ำหนัก(กก.)50\n",
            "ส่วนสูง(ซม.)170\n",
            "BMI = 17.301038062283737\n",
            "ผอมเกินไป\n"
          ]
        }
      ]
    }
  ]
}