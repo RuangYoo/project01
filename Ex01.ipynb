{
  "nbformat": 4,
  "nbformat_minor": 0,
  "metadata": {
    "colab": {
      "provenance": [],
      "authorship_tag": "ABX9TyPjkS0HuE5b91iH0/afXOXC",
      "include_colab_link": true
    },
    "kernelspec": {
      "name": "python3",
      "display_name": "Python 3"
    },
    "language_info": {
      "name": "python"
    }
  },
  "cells": [
    {
      "cell_type": "markdown",
      "metadata": {
        "id": "view-in-github",
        "colab_type": "text"
      },
      "source": [
        "<a href=\"https://colab.research.google.com/github/RuangYoo/project01/blob/main/Ex01.ipynb\" target=\"_parent\"><img src=\"https://colab.research.google.com/assets/colab-badge.svg\" alt=\"Open In Colab\"/></a>"
      ]
    },
    {
      "cell_type": "code",
      "execution_count": 2,
      "metadata": {
        "id": "7rL2NjUCTZjI"
      },
      "outputs": [],
      "source": [
        "#อบรม python 27 พ.ย. 67\n",
        "#644245024 อรรถพล เรืองอยู่ หมู่เรียนที่ 64/37"
      ]
    },
    {
      "cell_type": "code",
      "source": [
        "name = input(\"กรุนากรอกชื่อ : \")\n",
        "print(\"ยินดีต้อนรับ \" + name)"
      ],
      "metadata": {
        "id": "sm5ssNklTzOf"
      },
      "execution_count": null,
      "outputs": []
    },
    {
      "cell_type": "code",
      "source": [
        "num1=int(input(\"number1 = \"))\n",
        "num2=int(input(\"number2 = \"))\n",
        "total=num1/num2\n",
        "print(str(num1)+\"/\"+str(num2)+\"=\"+str(total))"
      ],
      "metadata": {
        "id": "UBxfcva1VIdf"
      },
      "execution_count": null,
      "outputs": []
    },
    {
      "cell_type": "code",
      "source": [
        "w = float(input(\"ค่าน้ำหนัก(กก.)\"))\n",
        "h = float(input(\"ส่วนสูง(ซม.)\"))\n",
        "bmi = w/((h/100)**2)\n",
        "print(\"BMI = \"+str(bmi))"
      ],
      "metadata": {
        "id": "xvCscT0lbG9u"
      },
      "execution_count": null,
      "outputs": []
    },
    {
      "cell_type": "code",
      "source": [
        "w = float(input(\"กว้าง(เมตร)\"))\n",
        "l = float(input(\"ยาว(เมตร)\"))\n",
        "h = float(input(\"สูงเซยติเมตร\"))\n",
        "\n",
        "\n",
        "print(\"ปริมาณที่ต้องใช้+เพื่ออีก 10%(คิว)\")"
      ],
      "metadata": {
        "id": "s5in8koNebG2"
      },
      "execution_count": null,
      "outputs": []
    },
    {
      "source": [
        "w = float(input(\"กว้าง(เมตร)\"))\n",
        "l = float(input(\"ยาว(เมตร)\"))\n",
        "h = float(input(\"สูง(เซนติเมตร)\"))  # Corrected the prompt\n",
        "\n",
        "# Calculate the volume in cubic meters\n",
        "volume = (w * l * (h * 0.01))  # Height is converted to meters\n",
        "\n",
        "# Add 10% to the volume\n",
        "extra_volume = volume * 0.10\n",
        "total_volume = volume + extra_volume\n",
        "\n",
        "print(\"ปริมาณที่ต้องใช้ (คิว):\", volume)\n",
        "print(\"ปริมาณที่ต้องใช้ + เพื่ออีก 10% (คิว):\", total_volume)"
      ],
      "cell_type": "code",
      "metadata": {
        "id": "m0Yb7C7gga4d"
      },
      "execution_count": null,
      "outputs": []
    },
    {
      "cell_type": "code",
      "source": [
        "a=50\n",
        "b=70\n",
        "if a>b:\n",
        "    print(\"a มากกว่า b\")\n",
        "else:\n",
        "    print(\"a น้อยกว่า b\")"
      ],
      "metadata": {
        "id": "xfIYU1H7j8yO"
      },
      "execution_count": null,
      "outputs": []
    },
    {
      "source": [
        "w = float(input(\"ค่าน้ำหนัก(กก.)\"))\n",
        "h = float(input(\"ส่วนสูง(ซม.)\"))\n",
        "bmi = w / ((h / 100) ** 2)\n",
        "print(\"BMI =\", bmi)\n",
        "\n",
        "if bmi >= 30.0:\n",
        "    print(\"อ้วนมาก\")  # Obese\n",
        "elif bmi >= 25.0:\n",
        "    print(\"อ้วน\")  # Overweight\n",
        "elif bmi < 18.5:\n",
        "    print(\"ผอมเกินไป\")  # Underweight\n",
        "else:\n",
        "    print(\"น้ำหนักปกติ\")  # Normal weight"
      ],
      "cell_type": "code",
      "metadata": {
        "id": "fVFr49XklS21"
      },
      "execution_count": null,
      "outputs": []
    },
    {
      "source": [
        "number = int(input(\"กรุณาใส่ตัวเลขที่ต้องการ: \"))\n",
        "\n",
        "print(f\"แม่สูตรคูณแม่ {number}:\")\n",
        "\n",
        "for i in range(1, 13):\n",
        "    result = number * i\n",
        "    print(f\"{number} x {i} = {result}\")"
      ],
      "cell_type": "code",
      "metadata": {
        "id": "OcwrfZk0uTtr"
      },
      "execution_count": null,
      "outputs": []
    },
    {
      "source": [
        "for number in range(2, 13):\n",
        "    print(f\"แม่สูตรคูณแม่ {number}:\")\n",
        "\n",
        "    i = 1\n",
        "    while i <= 12:\n",
        "        result = number * i\n",
        "        print(f\"{number} x {i} = {result}\")\n",
        "        i += 1\n",
        "\n",
        "    print(\"-\" * 20)"
      ],
      "cell_type": "code",
      "metadata": {
        "id": "yIKoW62Bxmgk"
      },
      "execution_count": null,
      "outputs": []
    },
    {
      "cell_type": "code",
      "source": [
        "# prompt: ดึงข้อมูล บิทคอยแบบ realtime\n",
        "\n",
        "import requests\n",
        "import json\n",
        "\n",
        "def get_bitcoin_price():\n",
        "  try:\n",
        "    response = requests.get('https://api.coindesk.com/v1/bpi/currentprice.json')\n",
        "    response.raise_for_status()  # Raise an exception for bad status codes (4xx or 5xx)\n",
        "\n",
        "    data = response.json()\n",
        "    bitcoin_price = data['bpi']['USD']['rate_float']\n",
        "    return bitcoin_price\n",
        "  except requests.exceptions.RequestException as e:\n",
        "    print(f\"Error fetching Bitcoin price: {e}\")\n",
        "    return None\n",
        "\n",
        "bitcoin_price = get_bitcoin_price()\n",
        "\n",
        "if bitcoin_price is not None:\n",
        "  print(f\"Bitcoin price: ${bitcoin_price}\")"
      ],
      "metadata": {
        "id": "EyPm7VYE15or"
      },
      "execution_count": null,
      "outputs": []
    }
  ]
}