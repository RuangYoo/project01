{
  "nbformat": 4,
  "nbformat_minor": 0,
  "metadata": {
    "colab": {
      "provenance": [],
      "authorship_tag": "ABX9TyPjkS0HuE5b91iH0/afXOXC",
      "include_colab_link": true
    },
    "kernelspec": {
      "name": "python3",
      "display_name": "Python 3"
    },
    "language_info": {
      "name": "python"
    }
  },
  "cells": [
    {
      "cell_type": "markdown",
      "metadata": {
        "id": "view-in-github",
        "colab_type": "text"
      },
      "source": [
        "<a href=\"https://colab.research.google.com/github/RuangYoo/project01/blob/main/Ex01.ipynb\" target=\"_parent\"><img src=\"https://colab.research.google.com/assets/colab-badge.svg\" alt=\"Open In Colab\"/></a>"
      ]
    },
    {
      "cell_type": "code",
      "execution_count": 2,
      "metadata": {
        "id": "7rL2NjUCTZjI"
      },
      "outputs": [],
      "source": [
        "#อบรม python 27 พ.ย. 67\n",
        "#644245024 อรรถพล เรืองอยู่ หมู่เรียนที่ 64/37"
      ]
    },
    {
      "cell_type": "code",
      "source": [
        "name = input(\"กรุนากรอกชื่อ : \")\n",
        "print(\"ยินดีต้อนรับ \" + name)"
      ],
      "metadata": {
        "colab": {
          "base_uri": "https://localhost:8080/"
        },
        "id": "sm5ssNklTzOf",
        "outputId": "cfe06de6-7e4f-4a82-e8da-52a8764bfc45"
      },
      "execution_count": 4,
      "outputs": [
        {
          "output_type": "stream",
          "name": "stdout",
          "text": [
            "กรุนากรอกชื่อ : เจมส์\n",
            "ยินดีต้อนรับ เจมส์\n"
          ]
        }
      ]
    },
    {
      "cell_type": "code",
      "source": [
        "num1=int(input(\"number1 = \"))\n",
        "num2=int(input(\"number2 = \"))\n",
        "total=num1/num2\n",
        "print(str(num1)+\"/\"+str(num2)+\"=\"+str(total))"
      ],
      "metadata": {
        "colab": {
          "base_uri": "https://localhost:8080/"
        },
        "id": "UBxfcva1VIdf",
        "outputId": "c7c71af7-ca45-4ec6-f498-2a9f0c69af98"
      },
      "execution_count": 12,
      "outputs": [
        {
          "output_type": "stream",
          "name": "stdout",
          "text": [
            "number1 = 0\n",
            "number2 = 10\n",
            "0/10=0.0\n"
          ]
        }
      ]
    },
    {
      "cell_type": "code",
      "source": [
        "w = float(input(\"ค่าน้ำหนัก(กก.)\"))\n",
        "h = float(input(\"ส่วนสูง(ซม.)\"))\n",
        "bmi = w/((h/100)**2)\n",
        "print(\"BMI = \"+str(bmi))"
      ],
      "metadata": {
        "colab": {
          "base_uri": "https://localhost:8080/"
        },
        "id": "xvCscT0lbG9u",
        "outputId": "c6e90a5c-5402-4ced-a4f3-6e539a458090"
      },
      "execution_count": 14,
      "outputs": [
        {
          "output_type": "stream",
          "name": "stdout",
          "text": [
            "ค่าน้ำหนัก(กก.)50\n",
            "ส่วนสูง(ซม.)170\n",
            "BMI = 17.301038062283737\n"
          ]
        }
      ]
    },
    {
      "cell_type": "code",
      "source": [
        "w = float(input(\"กว้าง(เมตร)\"))\n",
        "l = float(input(\"ยาว(เมตร)\"))\n",
        "h = float(input(\"สูงเซยติเมตร\"))\n",
        "\n",
        "\n",
        "print(\"ปริมาณที่ต้องใช้+เพื่ออีก 10%(คิว)\")"
      ],
      "metadata": {
        "id": "s5in8koNebG2"
      },
      "execution_count": null,
      "outputs": []
    },
    {
      "source": [
        "w = float(input(\"กว้าง(เมตร)\"))\n",
        "l = float(input(\"ยาว(เมตร)\"))\n",
        "h = float(input(\"สูง(เซนติเมตร)\"))  # Corrected the prompt\n",
        "\n",
        "# Calculate the volume in cubic meters\n",
        "volume = (w * l * (h * 0.01))  # Height is converted to meters\n",
        "\n",
        "# Add 10% to the volume\n",
        "extra_volume = volume * 0.10\n",
        "total_volume = volume + extra_volume\n",
        "\n",
        "print(\"ปริมาณที่ต้องใช้ (คิว):\", volume)\n",
        "print(\"ปริมาณที่ต้องใช้ + เพื่ออีก 10% (คิว):\", total_volume)"
      ],
      "cell_type": "code",
      "metadata": {
        "colab": {
          "base_uri": "https://localhost:8080/"
        },
        "id": "m0Yb7C7gga4d",
        "outputId": "2b9ca3a3-5d6b-4b90-98b9-6975a71f8a38"
      },
      "execution_count": 22,
      "outputs": [
        {
          "output_type": "stream",
          "name": "stdout",
          "text": [
            "กว้าง(เมตร)5\n",
            "ยาว(เมตร)7\n",
            "สูง(เซนติเมตร)15\n",
            "ปริมาณที่ต้องใช้ (คิว): 5.25\n",
            "ปริมาณที่ต้องใช้ + เพื่ออีก 10% (คิว): 5.775\n"
          ]
        }
      ]
    },
    {
      "cell_type": "code",
      "source": [
        "a=50\n",
        "b=70\n",
        "if a>b:\n",
        "    print(\"a มากกว่า b\")\n",
        "else:\n",
        "    print(\"a น้อยกว่า b\")"
      ],
      "metadata": {
        "id": "xfIYU1H7j8yO"
      },
      "execution_count": null,
      "outputs": []
    },
    {
      "source": [
        "w = float(input(\"ค่าน้ำหนัก(กก.)\"))\n",
        "h = float(input(\"ส่วนสูง(ซม.)\"))\n",
        "bmi = w / ((h / 100) ** 2)\n",
        "print(\"BMI =\", bmi)\n",
        "\n",
        "if bmi >= 30.0:\n",
        "    print(\"อ้วนมาก\")  # Obese\n",
        "elif bmi >= 25.0:\n",
        "    print(\"อ้วน\")  # Overweight\n",
        "elif bmi < 18.5:\n",
        "    print(\"ผอมเกินไป\")  # Underweight\n",
        "else:\n",
        "    print(\"น้ำหนักปกติ\")  # Normal weight"
      ],
      "cell_type": "code",
      "metadata": {
        "colab": {
          "base_uri": "https://localhost:8080/"
        },
        "id": "fVFr49XklS21",
        "outputId": "13de1482-82c7-491b-c338-c1ac507893ce"
      },
      "execution_count": 23,
      "outputs": [
        {
          "output_type": "stream",
          "name": "stdout",
          "text": [
            "ค่าน้ำหนัก(กก.)50\n",
            "ส่วนสูง(ซม.)170\n",
            "BMI = 17.301038062283737\n",
            "ผอมเกินไป\n"
          ]
        }
      ]
    },
    {
      "source": [
        "number = int(input(\"กรุณาใส่ตัวเลขที่ต้องการ: \"))\n",
        "\n",
        "print(f\"แม่สูตรคูณแม่ {number}:\")\n",
        "\n",
        "for i in range(1, 13):\n",
        "    result = number * i\n",
        "    print(f\"{number} x {i} = {result}\")"
      ],
      "cell_type": "code",
      "metadata": {
        "colab": {
          "base_uri": "https://localhost:8080/"
        },
        "id": "OcwrfZk0uTtr",
        "outputId": "039dd5e7-fa00-423d-80ad-6c89343e3c56"
      },
      "execution_count": 28,
      "outputs": [
        {
          "output_type": "stream",
          "name": "stdout",
          "text": [
            "กรุณาใส่ตัวเลขที่ต้องการ: 6\n",
            "แม่สูตรคูณแม่ 6:\n",
            "6 x 1 = 6\n",
            "6 x 2 = 12\n",
            "6 x 3 = 18\n",
            "6 x 4 = 24\n",
            "6 x 5 = 30\n",
            "6 x 6 = 36\n",
            "6 x 7 = 42\n",
            "6 x 8 = 48\n",
            "6 x 9 = 54\n",
            "6 x 10 = 60\n",
            "6 x 11 = 66\n",
            "6 x 12 = 72\n"
          ]
        }
      ]
    },
    {
      "source": [
        "for number in range(2, 13):\n",
        "    print(f\"แม่สูตรคูณแม่ {number}:\")\n",
        "\n",
        "    i = 1\n",
        "    while i <= 12:\n",
        "        result = number * i\n",
        "        print(f\"{number} x {i} = {result}\")\n",
        "        i += 1\n",
        "\n",
        "    print(\"-\" * 20)"
      ],
      "cell_type": "code",
      "metadata": {
        "colab": {
          "base_uri": "https://localhost:8080/"
        },
        "id": "yIKoW62Bxmgk",
        "outputId": "6fe21b33-cc4e-4bd2-91df-08ac4000bb9e"
      },
      "execution_count": 29,
      "outputs": [
        {
          "output_type": "stream",
          "name": "stdout",
          "text": [
            "แม่สูตรคูณแม่ 2:\n",
            "2 x 1 = 2\n",
            "2 x 2 = 4\n",
            "2 x 3 = 6\n",
            "2 x 4 = 8\n",
            "2 x 5 = 10\n",
            "2 x 6 = 12\n",
            "2 x 7 = 14\n",
            "2 x 8 = 16\n",
            "2 x 9 = 18\n",
            "2 x 10 = 20\n",
            "2 x 11 = 22\n",
            "2 x 12 = 24\n",
            "--------------------\n",
            "แม่สูตรคูณแม่ 3:\n",
            "3 x 1 = 3\n",
            "3 x 2 = 6\n",
            "3 x 3 = 9\n",
            "3 x 4 = 12\n",
            "3 x 5 = 15\n",
            "3 x 6 = 18\n",
            "3 x 7 = 21\n",
            "3 x 8 = 24\n",
            "3 x 9 = 27\n",
            "3 x 10 = 30\n",
            "3 x 11 = 33\n",
            "3 x 12 = 36\n",
            "--------------------\n",
            "แม่สูตรคูณแม่ 4:\n",
            "4 x 1 = 4\n",
            "4 x 2 = 8\n",
            "4 x 3 = 12\n",
            "4 x 4 = 16\n",
            "4 x 5 = 20\n",
            "4 x 6 = 24\n",
            "4 x 7 = 28\n",
            "4 x 8 = 32\n",
            "4 x 9 = 36\n",
            "4 x 10 = 40\n",
            "4 x 11 = 44\n",
            "4 x 12 = 48\n",
            "--------------------\n",
            "แม่สูตรคูณแม่ 5:\n",
            "5 x 1 = 5\n",
            "5 x 2 = 10\n",
            "5 x 3 = 15\n",
            "5 x 4 = 20\n",
            "5 x 5 = 25\n",
            "5 x 6 = 30\n",
            "5 x 7 = 35\n",
            "5 x 8 = 40\n",
            "5 x 9 = 45\n",
            "5 x 10 = 50\n",
            "5 x 11 = 55\n",
            "5 x 12 = 60\n",
            "--------------------\n",
            "แม่สูตรคูณแม่ 6:\n",
            "6 x 1 = 6\n",
            "6 x 2 = 12\n",
            "6 x 3 = 18\n",
            "6 x 4 = 24\n",
            "6 x 5 = 30\n",
            "6 x 6 = 36\n",
            "6 x 7 = 42\n",
            "6 x 8 = 48\n",
            "6 x 9 = 54\n",
            "6 x 10 = 60\n",
            "6 x 11 = 66\n",
            "6 x 12 = 72\n",
            "--------------------\n",
            "แม่สูตรคูณแม่ 7:\n",
            "7 x 1 = 7\n",
            "7 x 2 = 14\n",
            "7 x 3 = 21\n",
            "7 x 4 = 28\n",
            "7 x 5 = 35\n",
            "7 x 6 = 42\n",
            "7 x 7 = 49\n",
            "7 x 8 = 56\n",
            "7 x 9 = 63\n",
            "7 x 10 = 70\n",
            "7 x 11 = 77\n",
            "7 x 12 = 84\n",
            "--------------------\n",
            "แม่สูตรคูณแม่ 8:\n",
            "8 x 1 = 8\n",
            "8 x 2 = 16\n",
            "8 x 3 = 24\n",
            "8 x 4 = 32\n",
            "8 x 5 = 40\n",
            "8 x 6 = 48\n",
            "8 x 7 = 56\n",
            "8 x 8 = 64\n",
            "8 x 9 = 72\n",
            "8 x 10 = 80\n",
            "8 x 11 = 88\n",
            "8 x 12 = 96\n",
            "--------------------\n",
            "แม่สูตรคูณแม่ 9:\n",
            "9 x 1 = 9\n",
            "9 x 2 = 18\n",
            "9 x 3 = 27\n",
            "9 x 4 = 36\n",
            "9 x 5 = 45\n",
            "9 x 6 = 54\n",
            "9 x 7 = 63\n",
            "9 x 8 = 72\n",
            "9 x 9 = 81\n",
            "9 x 10 = 90\n",
            "9 x 11 = 99\n",
            "9 x 12 = 108\n",
            "--------------------\n",
            "แม่สูตรคูณแม่ 10:\n",
            "10 x 1 = 10\n",
            "10 x 2 = 20\n",
            "10 x 3 = 30\n",
            "10 x 4 = 40\n",
            "10 x 5 = 50\n",
            "10 x 6 = 60\n",
            "10 x 7 = 70\n",
            "10 x 8 = 80\n",
            "10 x 9 = 90\n",
            "10 x 10 = 100\n",
            "10 x 11 = 110\n",
            "10 x 12 = 120\n",
            "--------------------\n",
            "แม่สูตรคูณแม่ 11:\n",
            "11 x 1 = 11\n",
            "11 x 2 = 22\n",
            "11 x 3 = 33\n",
            "11 x 4 = 44\n",
            "11 x 5 = 55\n",
            "11 x 6 = 66\n",
            "11 x 7 = 77\n",
            "11 x 8 = 88\n",
            "11 x 9 = 99\n",
            "11 x 10 = 110\n",
            "11 x 11 = 121\n",
            "11 x 12 = 132\n",
            "--------------------\n",
            "แม่สูตรคูณแม่ 12:\n",
            "12 x 1 = 12\n",
            "12 x 2 = 24\n",
            "12 x 3 = 36\n",
            "12 x 4 = 48\n",
            "12 x 5 = 60\n",
            "12 x 6 = 72\n",
            "12 x 7 = 84\n",
            "12 x 8 = 96\n",
            "12 x 9 = 108\n",
            "12 x 10 = 120\n",
            "12 x 11 = 132\n",
            "12 x 12 = 144\n",
            "--------------------\n"
          ]
        }
      ]
    },
    {
      "cell_type": "code",
      "source": [
        "# prompt: ดึงข้อมูล บิทคอยแบบ realtime\n",
        "\n",
        "import requests\n",
        "import json\n",
        "\n",
        "def get_bitcoin_price():\n",
        "  try:\n",
        "    response = requests.get('https://api.coindesk.com/v1/bpi/currentprice.json')\n",
        "    response.raise_for_status()  # Raise an exception for bad status codes (4xx or 5xx)\n",
        "\n",
        "    data = response.json()\n",
        "    bitcoin_price = data['bpi']['USD']['rate_float']\n",
        "    return bitcoin_price\n",
        "  except requests.exceptions.RequestException as e:\n",
        "    print(f\"Error fetching Bitcoin price: {e}\")\n",
        "    return None\n",
        "\n",
        "bitcoin_price = get_bitcoin_price()\n",
        "\n",
        "if bitcoin_price is not None:\n",
        "  print(f\"Bitcoin price: ${bitcoin_price}\")"
      ],
      "metadata": {
        "colab": {
          "base_uri": "https://localhost:8080/"
        },
        "id": "EyPm7VYE15or",
        "outputId": "f7fa0c51-490c-4230-d635-f35142178561"
      },
      "execution_count": 2,
      "outputs": [
        {
          "output_type": "stream",
          "name": "stdout",
          "text": [
            "Bitcoin price: $93401.8306\n"
          ]
        }
      ]
    }
  ]
}